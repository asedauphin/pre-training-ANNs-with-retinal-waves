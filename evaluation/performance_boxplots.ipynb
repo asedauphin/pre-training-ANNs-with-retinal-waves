{
 "cells": [
  {
   "cell_type": "code",
   "execution_count": 1,
   "id": "initial_id",
   "metadata": {
    "collapsed": true,
    "ExecuteTime": {
     "end_time": "2024-11-28T19:54:58.274116Z",
     "start_time": "2024-11-28T19:54:24.838764Z"
    }
   },
   "outputs": [],
   "source": [
    "from model import NextFramePredictor, get_next_frame_dataloader\n",
    "from performance_plots import performance_boxplots\n",
    "\n",
    "import torch\n",
    "import torch.nn as nn\n",
    "import os\n",
    "from tqdm import tqdm\n",
    "import pickle\n",
    "import matplotlib.pyplot as plt"
   ]
  },
  {
   "cell_type": "code",
   "execution_count": 2,
   "outputs": [],
   "source": [
    "plt.rcParams['figure.dpi'] = 300\n",
    "plt.style.use(\"default\")\n",
    "\n",
    "import config"
   ],
   "metadata": {
    "collapsed": false,
    "ExecuteTime": {
     "end_time": "2024-11-28T19:54:58.280039Z",
     "start_time": "2024-11-28T19:54:58.274430Z"
    }
   },
   "id": "9ae7a1add5620c7c"
  },
  {
   "cell_type": "code",
   "execution_count": 3,
   "outputs": [],
   "source": [
    "def test_performance(model, data_loader, criterion):\n",
    "    loss_list = []\n",
    "    model.eval()\n",
    "    with torch.no_grad():\n",
    "        for input, target in data_loader:\n",
    "            output = model(input)\n",
    "            loss = criterion(output.flatten(), target.flatten())\n",
    "            loss_list.append(loss.item())\n",
    "    return loss_list\n",
    "\n",
    "\n",
    "def initialize_model(SEQ2LATENT_MODEL_PATH, LATENT2NEXTFRAME_MODEL_PATH, device):\n",
    "    model = NextFramePredictor(num_channels=1, num_kernels=64,\n",
    "                               kernel_size=(3, 3), padding=(1, 1), cell_type=\"RNN\").to(device)\n",
    "    if SEQ2LATENT_MODEL_PATH != \"None\":\n",
    "        model.load_models(SEQ2LATENT_MODEL_PATH, LATENT2NEXTFRAME_MODEL_PATH, device)\n",
    "\n",
    "    criterion = nn.MSELoss(reduction='sum')\n",
    "\n",
    "    return model, criterion\n",
    "\n",
    "\n",
    "def get_epoch_losses(parent_dir, model_dirs, epoch, data_loader, precomputed_loss=None, fold_nr=None):\n",
    "    device = torch.device('cuda' if torch.cuda.is_available() else 'cpu')\n",
    "    loss = {} if precomputed_loss is None else precomputed_loss\n",
    "    model_name = \"best_model\" if epoch == \"best\" else \"model\"\n",
    "\n",
    "    for current_model_dir in model_dirs:\n",
    "        print(f\"Calculating loss for {current_model_dir}\")\n",
    "        if current_model_dir not in loss.keys():\n",
    "            loss[current_model_dir] = []\n",
    "        for replicate_dir in tqdm(os.listdir(f'{parent_dir}/{current_model_dir}')):\n",
    "            if 'LM' not in replicate_dir:\n",
    "                continue\n",
    "            if fold_nr is not None and not replicate_dir.endswith(f\"_{fold_nr}\"):\n",
    "                continue\n",
    "\n",
    "            if epoch == \"best\":\n",
    "                for file in os.listdir(f'{parent_dir}/{current_model_dir}/{replicate_dir}'):\n",
    "                    if 'best' in file:\n",
    "                        epoch_nr = file.split('_')[-2]\n",
    "            else:\n",
    "                epoch_nr = epoch\n",
    "\n",
    "            SEQ2LATENT_MODEL_PATH = f'{parent_dir}/{current_model_dir}/{replicate_dir}/{model_name}_epoch_{epoch_nr}_seq2latent.pth'\n",
    "            LATENT2NEXTFRAME_MODEL_PATH = f'{parent_dir}/{current_model_dir}/{replicate_dir}/{model_name}_epoch_{epoch_nr}_latent2nextframe.pth'\n",
    "\n",
    "            model, criterion = initialize_model(SEQ2LATENT_MODEL_PATH, LATENT2NEXTFRAME_MODEL_PATH, device)\n",
    "            loss_list = test_performance(model, data_loader, criterion)\n",
    "            loss[current_model_dir].extend(loss_list)\n",
    "\n",
    "    return loss"
   ],
   "metadata": {
    "collapsed": false,
    "ExecuteTime": {
     "end_time": "2024-11-28T19:54:58.286439Z",
     "start_time": "2024-11-28T19:54:58.278046Z"
    }
   },
   "id": "ee49436e84c897bc"
  },
  {
   "cell_type": "code",
   "execution_count": 4,
   "outputs": [],
   "source": [
    "RNN_parent_dir = f'{config.project_dir}/Output/NI_maze/RNN'\n",
    "RNN_model_dirs = ['Pretrained_Directional', 'Pretrained_Godfrey', 'No_Pretraining', 'Shuffled_Directional']\n",
    "RNN_model_names = ['DirectedProp', 'NotDirectedProp', 'NotPretrained', 'DirectedProp Shuffled']\n",
    "RNN_model_designs = [{'color': '#0065bd', 'marker': 'o'},\n",
    "                     {'color': '#d6a319', 'marker': 'x'},\n",
    "                     {'color': '#4cc997', 'marker': 'v'},\n",
    "                     {'color': '#cc323f', 'marker': '.'}]"
   ],
   "metadata": {
    "collapsed": false,
    "ExecuteTime": {
     "end_time": "2024-11-28T19:54:58.292077Z",
     "start_time": "2024-11-28T19:54:58.287943Z"
    }
   },
   "id": "6570cf6a0d9493f0"
  },
  {
   "cell_type": "markdown",
   "source": [
    "# Validation Datasets (5 folds)"
   ],
   "metadata": {
    "collapsed": false
   },
   "id": "82e70865ecdea39f"
  },
  {
   "cell_type": "code",
   "execution_count": 6,
   "outputs": [],
   "source": [
    "dataset_path = f\"{config.project_dir}/NI_maze\"\n",
    "palette = {model: design['color'] for model, design in zip(RNN_model_dirs, RNN_model_designs)}"
   ],
   "metadata": {
    "collapsed": false,
    "ExecuteTime": {
     "end_time": "2024-11-28T19:55:11.695112Z",
     "start_time": "2024-11-28T19:55:11.688294Z"
    }
   },
   "id": "bb41edef98d28550"
  },
  {
   "cell_type": "code",
   "execution_count": 6,
   "outputs": [
    {
     "name": "stdout",
     "output_type": "stream",
     "text": [
      "Loading file 1 of 200...\n",
      "Loading file 101 of 200...\n",
      "Dataset with 200 samples loaded.\n",
      "Calculating validation loss for Pretrained_Directional\n"
     ]
    },
    {
     "name": "stderr",
     "output_type": "stream",
     "text": [
      "  0%|          | 0/6 [00:00<?, ?it/s][W NNPACK.cpp:53] Could not initialize NNPACK! Reason: Unsupported hardware.\n",
      "100%|██████████| 6/6 [00:32<00:00,  5.35s/it]\n"
     ]
    },
    {
     "name": "stdout",
     "output_type": "stream",
     "text": [
      "Calculating validation loss for Pretrained_Godfrey\n"
     ]
    },
    {
     "name": "stderr",
     "output_type": "stream",
     "text": [
      "100%|██████████| 5/5 [00:30<00:00,  6.17s/it]\n"
     ]
    },
    {
     "name": "stdout",
     "output_type": "stream",
     "text": [
      "Calculating validation loss for No_Pretraining\n"
     ]
    },
    {
     "name": "stderr",
     "output_type": "stream",
     "text": [
      "100%|██████████| 6/6 [00:29<00:00,  4.86s/it]\n"
     ]
    },
    {
     "name": "stdout",
     "output_type": "stream",
     "text": [
      "Calculating validation loss for Shuffled_Directional\n"
     ]
    },
    {
     "name": "stderr",
     "output_type": "stream",
     "text": [
      "100%|██████████| 5/5 [00:30<00:00,  6.06s/it]\n"
     ]
    },
    {
     "name": "stdout",
     "output_type": "stream",
     "text": [
      "Loading file 1 of 200...\n",
      "Loading file 101 of 200...\n",
      "Dataset with 200 samples loaded.\n",
      "Calculating validation loss for Pretrained_Directional\n"
     ]
    },
    {
     "name": "stderr",
     "output_type": "stream",
     "text": [
      "100%|██████████| 6/6 [00:28<00:00,  4.81s/it]\n"
     ]
    },
    {
     "name": "stdout",
     "output_type": "stream",
     "text": [
      "Calculating validation loss for Pretrained_Godfrey\n"
     ]
    },
    {
     "name": "stderr",
     "output_type": "stream",
     "text": [
      "100%|██████████| 5/5 [00:28<00:00,  5.79s/it]\n"
     ]
    },
    {
     "name": "stdout",
     "output_type": "stream",
     "text": [
      "Calculating validation loss for No_Pretraining\n"
     ]
    },
    {
     "name": "stderr",
     "output_type": "stream",
     "text": [
      "100%|██████████| 6/6 [00:29<00:00,  4.84s/it]\n"
     ]
    },
    {
     "name": "stdout",
     "output_type": "stream",
     "text": [
      "Calculating validation loss for Shuffled_Directional\n"
     ]
    },
    {
     "name": "stderr",
     "output_type": "stream",
     "text": [
      "100%|██████████| 5/5 [00:29<00:00,  5.97s/it]\n"
     ]
    },
    {
     "name": "stdout",
     "output_type": "stream",
     "text": [
      "Loading file 1 of 200...\n",
      "Loading file 101 of 200...\n",
      "Dataset with 200 samples loaded.\n",
      "Calculating validation loss for Pretrained_Directional\n"
     ]
    },
    {
     "name": "stderr",
     "output_type": "stream",
     "text": [
      "100%|██████████| 6/6 [00:27<00:00,  4.55s/it]\n"
     ]
    },
    {
     "name": "stdout",
     "output_type": "stream",
     "text": [
      "Calculating validation loss for Pretrained_Godfrey\n"
     ]
    },
    {
     "name": "stderr",
     "output_type": "stream",
     "text": [
      "100%|██████████| 5/5 [00:28<00:00,  5.67s/it]\n"
     ]
    },
    {
     "name": "stdout",
     "output_type": "stream",
     "text": [
      "Calculating validation loss for No_Pretraining\n"
     ]
    },
    {
     "name": "stderr",
     "output_type": "stream",
     "text": [
      "100%|██████████| 6/6 [00:27<00:00,  4.56s/it]\n"
     ]
    },
    {
     "name": "stdout",
     "output_type": "stream",
     "text": [
      "Calculating validation loss for Shuffled_Directional\n"
     ]
    },
    {
     "name": "stderr",
     "output_type": "stream",
     "text": [
      "100%|██████████| 5/5 [00:29<00:00,  5.86s/it]\n"
     ]
    },
    {
     "name": "stdout",
     "output_type": "stream",
     "text": [
      "Loading file 1 of 200...\n",
      "Loading file 101 of 200...\n",
      "Dataset with 200 samples loaded.\n",
      "Calculating validation loss for Pretrained_Directional\n"
     ]
    },
    {
     "name": "stderr",
     "output_type": "stream",
     "text": [
      "100%|██████████| 6/6 [00:29<00:00,  4.84s/it]\n"
     ]
    },
    {
     "name": "stdout",
     "output_type": "stream",
     "text": [
      "Calculating validation loss for Pretrained_Godfrey\n"
     ]
    },
    {
     "name": "stderr",
     "output_type": "stream",
     "text": [
      "100%|██████████| 5/5 [00:28<00:00,  5.77s/it]\n"
     ]
    },
    {
     "name": "stdout",
     "output_type": "stream",
     "text": [
      "Calculating validation loss for No_Pretraining\n"
     ]
    },
    {
     "name": "stderr",
     "output_type": "stream",
     "text": [
      "100%|██████████| 6/6 [00:29<00:00,  4.88s/it]\n"
     ]
    },
    {
     "name": "stdout",
     "output_type": "stream",
     "text": [
      "Calculating validation loss for Shuffled_Directional\n"
     ]
    },
    {
     "name": "stderr",
     "output_type": "stream",
     "text": [
      "100%|██████████| 5/5 [00:29<00:00,  5.91s/it]\n"
     ]
    },
    {
     "name": "stdout",
     "output_type": "stream",
     "text": [
      "Loading file 1 of 200...\n",
      "Loading file 101 of 200...\n",
      "Dataset with 200 samples loaded.\n",
      "Calculating validation loss for Pretrained_Directional\n"
     ]
    },
    {
     "name": "stderr",
     "output_type": "stream",
     "text": [
      "100%|██████████| 6/6 [00:28<00:00,  4.82s/it]\n"
     ]
    },
    {
     "name": "stdout",
     "output_type": "stream",
     "text": [
      "Calculating validation loss for Pretrained_Godfrey\n"
     ]
    },
    {
     "name": "stderr",
     "output_type": "stream",
     "text": [
      "100%|██████████| 5/5 [00:28<00:00,  5.64s/it]\n"
     ]
    },
    {
     "name": "stdout",
     "output_type": "stream",
     "text": [
      "Calculating validation loss for No_Pretraining\n"
     ]
    },
    {
     "name": "stderr",
     "output_type": "stream",
     "text": [
      "100%|██████████| 6/6 [00:29<00:00,  4.89s/it]\n"
     ]
    },
    {
     "name": "stdout",
     "output_type": "stream",
     "text": [
      "Calculating validation loss for Shuffled_Directional\n"
     ]
    },
    {
     "name": "stderr",
     "output_type": "stream",
     "text": [
      "100%|██████████| 5/5 [00:29<00:00,  5.86s/it]\n"
     ]
    }
   ],
   "source": [
    "validation_loss = {}\n",
    "for fold in [1,2,3,4,5]:\n",
    "    val_loader = get_next_frame_dataloader(f\"{dataset_path}/fold_{fold}/validation\", batch_size=1)\n",
    "    validation_loss = get_epoch_losses(RNN_parent_dir, RNN_model_dirs, 0, val_loader, precomputed_loss=validation_loss, fold_nr=fold)\n",
    "\n",
    "pickle.dump(validation_loss, open(f'revisions_data/epoch_0_validation_loss.pkl', 'wb'))"
   ],
   "metadata": {
    "collapsed": false,
    "ExecuteTime": {
     "end_time": "2024-11-16T11:26:58.402041Z",
     "start_time": "2024-11-16T11:17:13.540623Z"
    }
   },
   "id": "1795779bc5ff1ea9"
  },
  {
   "cell_type": "code",
   "execution_count": 10,
   "outputs": [
    {
     "name": "stdout",
     "output_type": "stream",
     "text": [
      "Pretrained_Directional vs Pretrained_Godfrey: 4.7967996513853136e-24\n",
      "Pretrained_Directional vs No_Pretraining: 0.0\n",
      "Pretrained_Directional vs Shuffled_Directional: 1.8286901988027822e-103\n",
      "Pretrained_Godfrey vs No_Pretraining: 1.7505519023878357e-270\n",
      "Pretrained_Godfrey vs Shuffled_Directional: 3.1553847857884345e-70\n",
      "No_Pretraining vs Shuffled_Directional: 6.566063803492471e-105\n"
     ]
    },
    {
     "data": {
      "text/plain": "<Figure size 300x350 with 1 Axes>",
      "image/png": "[encoded data removed]"
     },
     "metadata": {},
     "output_type": "display_data"
    }
   ],
   "source": [
    "validation_loss = pickle.load(open(f'revisions_data/epoch_0_validation_loss.pkl', 'rb'))\n",
    "performance_boxplots(validation_loss,\n",
    "                     RNN_model_dirs,\n",
    "                     RNN_model_names,\n",
    "                     palette,\n",
    "                     \"figures_revisions/Figure_2/boxplots\",\n",
    "                     epoch=0,\n",
    "                     set='Validation',\n",
    "                     ylim=1450,\n",
    "                     y_offset_fixed=53,\n",
    "                     y_offset_scale=0.07)"
   ],
   "metadata": {
    "collapsed": false,
    "ExecuteTime": {
     "end_time": "2024-11-28T19:56:50.715211Z",
     "start_time": "2024-11-28T19:56:50.557035Z"
    }
   },
   "id": "aff041487eac08c3"
  },
  {
   "cell_type": "code",
   "execution_count": 8,
   "outputs": [
    {
     "name": "stdout",
     "output_type": "stream",
     "text": [
      "Loading file 1 of 200...\n",
      "Loading file 101 of 200...\n",
      "Dataset with 200 samples loaded.\n",
      "Calculating validation loss for Pretrained_Directional\n"
     ]
    },
    {
     "name": "stderr",
     "output_type": "stream",
     "text": [
      "100%|██████████| 6/6 [00:29<00:00,  4.85s/it]\n"
     ]
    },
    {
     "name": "stdout",
     "output_type": "stream",
     "text": [
      "Calculating validation loss for Pretrained_Godfrey\n"
     ]
    },
    {
     "name": "stderr",
     "output_type": "stream",
     "text": [
      "100%|██████████| 5/5 [00:28<00:00,  5.67s/it]\n"
     ]
    },
    {
     "name": "stdout",
     "output_type": "stream",
     "text": [
      "Calculating validation loss for No_Pretraining\n"
     ]
    },
    {
     "name": "stderr",
     "output_type": "stream",
     "text": [
      "100%|██████████| 6/6 [00:27<00:00,  4.59s/it]\n"
     ]
    },
    {
     "name": "stdout",
     "output_type": "stream",
     "text": [
      "Calculating validation loss for Shuffled_Directional\n"
     ]
    },
    {
     "name": "stderr",
     "output_type": "stream",
     "text": [
      "100%|██████████| 5/5 [00:27<00:00,  5.56s/it]\n"
     ]
    },
    {
     "name": "stdout",
     "output_type": "stream",
     "text": [
      "Loading file 1 of 200...\n",
      "Loading file 101 of 200...\n",
      "Dataset with 200 samples loaded.\n",
      "Calculating validation loss for Pretrained_Directional\n"
     ]
    },
    {
     "name": "stderr",
     "output_type": "stream",
     "text": [
      "100%|██████████| 6/6 [00:28<00:00,  4.68s/it]\n"
     ]
    },
    {
     "name": "stdout",
     "output_type": "stream",
     "text": [
      "Calculating validation loss for Pretrained_Godfrey\n"
     ]
    },
    {
     "name": "stderr",
     "output_type": "stream",
     "text": [
      "100%|██████████| 5/5 [00:28<00:00,  5.74s/it]\n"
     ]
    },
    {
     "name": "stdout",
     "output_type": "stream",
     "text": [
      "Calculating validation loss for No_Pretraining\n"
     ]
    },
    {
     "name": "stderr",
     "output_type": "stream",
     "text": [
      "100%|██████████| 6/6 [00:28<00:00,  4.80s/it]\n"
     ]
    },
    {
     "name": "stdout",
     "output_type": "stream",
     "text": [
      "Calculating validation loss for Shuffled_Directional\n"
     ]
    },
    {
     "name": "stderr",
     "output_type": "stream",
     "text": [
      "100%|██████████| 5/5 [00:29<00:00,  5.90s/it]\n"
     ]
    },
    {
     "name": "stdout",
     "output_type": "stream",
     "text": [
      "Loading file 1 of 200...\n",
      "Loading file 101 of 200...\n",
      "Dataset with 200 samples loaded.\n",
      "Calculating validation loss for Pretrained_Directional\n"
     ]
    },
    {
     "name": "stderr",
     "output_type": "stream",
     "text": [
      "100%|██████████| 6/6 [00:29<00:00,  4.85s/it]\n"
     ]
    },
    {
     "name": "stdout",
     "output_type": "stream",
     "text": [
      "Calculating validation loss for Pretrained_Godfrey\n"
     ]
    },
    {
     "name": "stderr",
     "output_type": "stream",
     "text": [
      "100%|██████████| 5/5 [00:28<00:00,  5.73s/it]\n"
     ]
    },
    {
     "name": "stdout",
     "output_type": "stream",
     "text": [
      "Calculating validation loss for No_Pretraining\n"
     ]
    },
    {
     "name": "stderr",
     "output_type": "stream",
     "text": [
      "100%|██████████| 6/6 [00:29<00:00,  4.91s/it]\n"
     ]
    },
    {
     "name": "stdout",
     "output_type": "stream",
     "text": [
      "Calculating validation loss for Shuffled_Directional\n"
     ]
    },
    {
     "name": "stderr",
     "output_type": "stream",
     "text": [
      "100%|██████████| 5/5 [00:29<00:00,  5.91s/it]\n"
     ]
    },
    {
     "name": "stdout",
     "output_type": "stream",
     "text": [
      "Loading file 1 of 200...\n",
      "Loading file 101 of 200...\n",
      "Dataset with 200 samples loaded.\n",
      "Calculating validation loss for Pretrained_Directional\n"
     ]
    },
    {
     "name": "stderr",
     "output_type": "stream",
     "text": [
      "100%|██████████| 6/6 [00:29<00:00,  4.88s/it]\n"
     ]
    },
    {
     "name": "stdout",
     "output_type": "stream",
     "text": [
      "Calculating validation loss for Pretrained_Godfrey\n"
     ]
    },
    {
     "name": "stderr",
     "output_type": "stream",
     "text": [
      "100%|██████████| 5/5 [00:28<00:00,  5.68s/it]\n"
     ]
    },
    {
     "name": "stdout",
     "output_type": "stream",
     "text": [
      "Calculating validation loss for No_Pretraining\n"
     ]
    },
    {
     "name": "stderr",
     "output_type": "stream",
     "text": [
      "100%|██████████| 6/6 [00:29<00:00,  4.98s/it]\n"
     ]
    },
    {
     "name": "stdout",
     "output_type": "stream",
     "text": [
      "Calculating validation loss for Shuffled_Directional\n"
     ]
    },
    {
     "name": "stderr",
     "output_type": "stream",
     "text": [
      "100%|██████████| 5/5 [00:28<00:00,  5.61s/it]\n"
     ]
    },
    {
     "name": "stdout",
     "output_type": "stream",
     "text": [
      "Loading file 1 of 200...\n",
      "Loading file 101 of 200...\n",
      "Dataset with 200 samples loaded.\n",
      "Calculating validation loss for Pretrained_Directional\n"
     ]
    },
    {
     "name": "stderr",
     "output_type": "stream",
     "text": [
      "100%|██████████| 6/6 [00:27<00:00,  4.57s/it]\n"
     ]
    },
    {
     "name": "stdout",
     "output_type": "stream",
     "text": [
      "Calculating validation loss for Pretrained_Godfrey\n"
     ]
    },
    {
     "name": "stderr",
     "output_type": "stream",
     "text": [
      "100%|██████████| 5/5 [00:27<00:00,  5.45s/it]\n"
     ]
    },
    {
     "name": "stdout",
     "output_type": "stream",
     "text": [
      "Calculating validation loss for No_Pretraining\n"
     ]
    },
    {
     "name": "stderr",
     "output_type": "stream",
     "text": [
      "100%|██████████| 6/6 [00:28<00:00,  4.82s/it]\n"
     ]
    },
    {
     "name": "stdout",
     "output_type": "stream",
     "text": [
      "Calculating validation loss for Shuffled_Directional\n"
     ]
    },
    {
     "name": "stderr",
     "output_type": "stream",
     "text": [
      "100%|██████████| 5/5 [00:28<00:00,  5.76s/it]\n"
     ]
    }
   ],
   "source": [
    "validation_loss = {}\n",
    "for fold in [1,2,3,4,5]:\n",
    "    val_loader = get_next_frame_dataloader(f\"{dataset_path}/fold_{fold}/validation\", batch_size=1)\n",
    "    validation_loss = get_epoch_losses(RNN_parent_dir, RNN_model_dirs, 1, val_loader, precomputed_loss=validation_loss, fold_nr=fold)\n",
    "\n",
    "pickle.dump(validation_loss, open(f'revisions_data/epoch_1_validation_loss.pkl', 'wb'))"
   ],
   "metadata": {
    "collapsed": false,
    "ExecuteTime": {
     "end_time": "2024-11-16T11:36:32.167014Z",
     "start_time": "2024-11-16T11:26:58.783482Z"
    }
   },
   "id": "17cc2587ebf22c65"
  },
  {
   "cell_type": "code",
   "execution_count": 30,
   "outputs": [
    {
     "name": "stdout",
     "output_type": "stream",
     "text": [
      "Pretrained_Directional vs Pretrained_Godfrey: 5.512706649265454e-57\n",
      "Pretrained_Directional vs No_Pretraining: 1.49683808006e-313\n",
      "Pretrained_Directional vs Shuffled_Directional: 5.328668573340261e-280\n",
      "Pretrained_Godfrey vs No_Pretraining: 3.244762138122901e-266\n",
      "Pretrained_Godfrey vs Shuffled_Directional: 7.923362808532805e-199\n",
      "No_Pretraining vs Shuffled_Directional: 5.175660932662813e-42\n"
     ]
    },
    {
     "data": {
      "text/plain": "<Figure size 300x350 with 1 Axes>",
      "image/png": "[encoded data removed]"
     },
     "metadata": {},
     "output_type": "display_data"
    }
   ],
   "source": [
    "validation_loss = pickle.load(open(f'revisions_data/epoch_1_validation_loss.pkl', 'rb'))\n",
    "performance_boxplots(validation_loss,\n",
    "                     RNN_model_dirs,\n",
    "                     RNN_model_names,\n",
    "                     palette,\n",
    "                     \"figures_revisions/Figure_2/boxplots\",\n",
    "                     epoch=1,\n",
    "                     set='Validation',\n",
    "                     ylim=290,\n",
    "                     y_offset_fixed=65,\n",
    "                     y_offset_scale=0.18)"
   ],
   "metadata": {
    "collapsed": false,
    "ExecuteTime": {
     "end_time": "2024-11-28T20:00:09.499996Z",
     "start_time": "2024-11-28T20:00:09.343456Z"
    }
   },
   "id": "bd85df4fb7722fd0"
  },
  {
   "cell_type": "code",
   "execution_count": 10,
   "outputs": [
    {
     "name": "stdout",
     "output_type": "stream",
     "text": [
      "Loading file 1 of 200...\n",
      "Loading file 101 of 200...\n",
      "Dataset with 200 samples loaded.\n",
      "Calculating validation loss for Pretrained_Directional\n"
     ]
    },
    {
     "name": "stderr",
     "output_type": "stream",
     "text": [
      "100%|██████████| 6/6 [00:28<00:00,  4.81s/it]\n"
     ]
    },
    {
     "name": "stdout",
     "output_type": "stream",
     "text": [
      "Calculating validation loss for Pretrained_Godfrey\n"
     ]
    },
    {
     "name": "stderr",
     "output_type": "stream",
     "text": [
      "100%|██████████| 5/5 [00:28<00:00,  5.77s/it]\n"
     ]
    },
    {
     "name": "stdout",
     "output_type": "stream",
     "text": [
      "Calculating validation loss for No_Pretraining\n"
     ]
    },
    {
     "name": "stderr",
     "output_type": "stream",
     "text": [
      "100%|██████████| 6/6 [00:29<00:00,  4.85s/it]\n"
     ]
    },
    {
     "name": "stdout",
     "output_type": "stream",
     "text": [
      "Calculating validation loss for Shuffled_Directional\n"
     ]
    },
    {
     "name": "stderr",
     "output_type": "stream",
     "text": [
      "100%|██████████| 5/5 [00:30<00:00,  6.02s/it]\n"
     ]
    },
    {
     "name": "stdout",
     "output_type": "stream",
     "text": [
      "Loading file 1 of 200...\n",
      "Loading file 101 of 200...\n",
      "Dataset with 200 samples loaded.\n",
      "Calculating validation loss for Pretrained_Directional\n"
     ]
    },
    {
     "name": "stderr",
     "output_type": "stream",
     "text": [
      "100%|██████████| 6/6 [00:29<00:00,  4.85s/it]\n"
     ]
    },
    {
     "name": "stdout",
     "output_type": "stream",
     "text": [
      "Calculating validation loss for Pretrained_Godfrey\n"
     ]
    },
    {
     "name": "stderr",
     "output_type": "stream",
     "text": [
      "100%|██████████| 5/5 [00:28<00:00,  5.68s/it]\n"
     ]
    },
    {
     "name": "stdout",
     "output_type": "stream",
     "text": [
      "Calculating validation loss for No_Pretraining\n"
     ]
    },
    {
     "name": "stderr",
     "output_type": "stream",
     "text": [
      "100%|██████████| 6/6 [00:28<00:00,  4.77s/it]\n"
     ]
    },
    {
     "name": "stdout",
     "output_type": "stream",
     "text": [
      "Calculating validation loss for Shuffled_Directional\n"
     ]
    },
    {
     "name": "stderr",
     "output_type": "stream",
     "text": [
      "100%|██████████| 5/5 [00:29<00:00,  5.94s/it]\n"
     ]
    },
    {
     "name": "stdout",
     "output_type": "stream",
     "text": [
      "Loading file 1 of 200...\n",
      "Loading file 101 of 200...\n",
      "Dataset with 200 samples loaded.\n",
      "Calculating validation loss for Pretrained_Directional\n"
     ]
    },
    {
     "name": "stderr",
     "output_type": "stream",
     "text": [
      "100%|██████████| 6/6 [00:28<00:00,  4.71s/it]\n"
     ]
    },
    {
     "name": "stdout",
     "output_type": "stream",
     "text": [
      "Calculating validation loss for Pretrained_Godfrey\n"
     ]
    },
    {
     "name": "stderr",
     "output_type": "stream",
     "text": [
      "100%|██████████| 5/5 [00:27<00:00,  5.48s/it]\n"
     ]
    },
    {
     "name": "stdout",
     "output_type": "stream",
     "text": [
      "Calculating validation loss for No_Pretraining\n"
     ]
    },
    {
     "name": "stderr",
     "output_type": "stream",
     "text": [
      "100%|██████████| 6/6 [00:27<00:00,  4.64s/it]\n"
     ]
    },
    {
     "name": "stdout",
     "output_type": "stream",
     "text": [
      "Calculating validation loss for Shuffled_Directional\n"
     ]
    },
    {
     "name": "stderr",
     "output_type": "stream",
     "text": [
      "100%|██████████| 5/5 [00:28<00:00,  5.66s/it]\n"
     ]
    },
    {
     "name": "stdout",
     "output_type": "stream",
     "text": [
      "Loading file 1 of 200...\n",
      "Loading file 101 of 200...\n",
      "Dataset with 200 samples loaded.\n",
      "Calculating validation loss for Pretrained_Directional\n"
     ]
    },
    {
     "name": "stderr",
     "output_type": "stream",
     "text": [
      "100%|██████████| 6/6 [00:29<00:00,  4.88s/it]\n"
     ]
    },
    {
     "name": "stdout",
     "output_type": "stream",
     "text": [
      "Calculating validation loss for Pretrained_Godfrey\n"
     ]
    },
    {
     "name": "stderr",
     "output_type": "stream",
     "text": [
      "100%|██████████| 5/5 [00:28<00:00,  5.69s/it]\n"
     ]
    },
    {
     "name": "stdout",
     "output_type": "stream",
     "text": [
      "Calculating validation loss for No_Pretraining\n"
     ]
    },
    {
     "name": "stderr",
     "output_type": "stream",
     "text": [
      "100%|██████████| 6/6 [00:27<00:00,  4.63s/it]\n"
     ]
    },
    {
     "name": "stdout",
     "output_type": "stream",
     "text": [
      "Calculating validation loss for Shuffled_Directional\n"
     ]
    },
    {
     "name": "stderr",
     "output_type": "stream",
     "text": [
      "100%|██████████| 5/5 [00:28<00:00,  5.73s/it]\n"
     ]
    },
    {
     "name": "stdout",
     "output_type": "stream",
     "text": [
      "Loading file 1 of 200...\n",
      "Loading file 101 of 200...\n",
      "Dataset with 200 samples loaded.\n",
      "Calculating validation loss for Pretrained_Directional\n"
     ]
    },
    {
     "name": "stderr",
     "output_type": "stream",
     "text": [
      "100%|██████████| 6/6 [00:29<00:00,  4.88s/it]\n"
     ]
    },
    {
     "name": "stdout",
     "output_type": "stream",
     "text": [
      "Calculating validation loss for Pretrained_Godfrey\n"
     ]
    },
    {
     "name": "stderr",
     "output_type": "stream",
     "text": [
      "100%|██████████| 5/5 [00:28<00:00,  5.77s/it]\n"
     ]
    },
    {
     "name": "stdout",
     "output_type": "stream",
     "text": [
      "Calculating validation loss for No_Pretraining\n"
     ]
    },
    {
     "name": "stderr",
     "output_type": "stream",
     "text": [
      "100%|██████████| 6/6 [00:28<00:00,  4.74s/it]\n"
     ]
    },
    {
     "name": "stdout",
     "output_type": "stream",
     "text": [
      "Calculating validation loss for Shuffled_Directional\n"
     ]
    },
    {
     "name": "stderr",
     "output_type": "stream",
     "text": [
      "100%|██████████| 5/5 [00:29<00:00,  5.85s/it]\n"
     ]
    }
   ],
   "source": [
    "validation_loss = {}\n",
    "for fold in [1,2,3,4,5]:\n",
    "    val_loader = get_next_frame_dataloader(f\"{dataset_path}/fold_{fold}/validation\", batch_size=1)\n",
    "    validation_loss = get_epoch_losses(RNN_parent_dir, RNN_model_dirs, \"best\", val_loader, precomputed_loss=validation_loss, fold_nr=fold)\n",
    "\n",
    "pickle.dump(validation_loss, open(f'revisions_data/epoch_best_validation_loss.pkl', 'wb'))"
   ],
   "metadata": {
    "collapsed": false,
    "ExecuteTime": {
     "end_time": "2024-11-16T11:46:07.714356Z",
     "start_time": "2024-11-16T11:36:32.351446Z"
    }
   },
   "id": "499dcb3fcc47aca9"
  },
  {
   "cell_type": "code",
   "execution_count": 42,
   "outputs": [
    {
     "name": "stdout",
     "output_type": "stream",
     "text": [
      "Pretrained_Directional vs Pretrained_Godfrey: 8.224500765721814e-11\n",
      "Pretrained_Directional vs No_Pretraining: 2.6043149733523516\n",
      "Pretrained_Directional vs Shuffled_Directional: 1.56859490043727e-82\n",
      "Pretrained_Godfrey vs No_Pretraining: 9.35472796633642e-19\n",
      "Pretrained_Godfrey vs Shuffled_Directional: 1.284240493319576e-66\n",
      "No_Pretraining vs Shuffled_Directional: 2.313819419083244e-131\n"
     ]
    },
    {
     "data": {
      "text/plain": "<Figure size 300x350 with 1 Axes>",
      "image/png": "[encoded data removed]"
     },
     "metadata": {},
     "output_type": "display_data"
    }
   ],
   "source": [
    "validation_loss = pickle.load(open(f'revisions_data/epoch_best_validation_loss.pkl', 'rb'))\n",
    "performance_boxplots(validation_loss,\n",
    "                     RNN_model_dirs,\n",
    "                     RNN_model_names,\n",
    "                     palette,\n",
    "                     \"figures_revisions/Figure_2/boxplots\",\n",
    "                     epoch=\"best\",\n",
    "                     set='Validation',\n",
    "                     ylim=36,\n",
    "                     y_offset_fixed=5,\n",
    "                     y_offset_scale=0.09)"
   ],
   "metadata": {
    "collapsed": false,
    "ExecuteTime": {
     "end_time": "2024-11-28T20:01:39.384709Z",
     "start_time": "2024-11-28T20:01:39.215416Z"
    }
   },
   "id": "47d72786c9216cec"
  },
  {
   "cell_type": "markdown",
   "source": [
    "# Hold-out Test Dataset"
   ],
   "metadata": {
    "collapsed": false
   },
   "id": "5926788a6392adfb"
  },
  {
   "cell_type": "code",
   "execution_count": 51,
   "outputs": [
    {
     "name": "stdout",
     "output_type": "stream",
     "text": [
      "Loading file 1 of 500...\n",
      "Loading file 101 of 500...\n",
      "Loading file 201 of 500...\n",
      "Loading file 301 of 500...\n",
      "Loading file 401 of 500...\n",
      "Dataset with 500 samples loaded.\n"
     ]
    }
   ],
   "source": [
    "dataset_path = f\"{config.project_dir}/NI_maze/test/training\"\n",
    "test_loader = get_next_frame_dataloader(dataset_path, batch_size=1)\n",
    "\n",
    "palette = {model: design['color'] for model, design in zip(RNN_model_dirs, RNN_model_designs)}"
   ],
   "metadata": {
    "collapsed": false,
    "ExecuteTime": {
     "end_time": "2024-11-28T20:03:50.756763Z",
     "start_time": "2024-11-28T20:03:50.358783Z"
    }
   },
   "id": "de86a9c8ca18c77f"
  },
  {
   "cell_type": "code",
   "execution_count": 52,
   "outputs": [
    {
     "name": "stdout",
     "output_type": "stream",
     "text": [
      "Calculating validation loss for Pretrained_Directional\n"
     ]
    },
    {
     "name": "stderr",
     "output_type": "stream",
     "text": [
      "  0%|          | 0/6 [00:00<?, ?it/s][W NNPACK.cpp:53] Could not initialize NNPACK! Reason: Unsupported hardware.\n",
      "100%|██████████| 6/6 [07:40<00:00, 76.69s/it]\n"
     ]
    },
    {
     "name": "stdout",
     "output_type": "stream",
     "text": [
      "Calculating validation loss for Pretrained_Godfrey\n"
     ]
    },
    {
     "name": "stderr",
     "output_type": "stream",
     "text": [
      "100%|██████████| 5/5 [07:46<00:00, 93.32s/it]\n"
     ]
    },
    {
     "name": "stdout",
     "output_type": "stream",
     "text": [
      "Calculating validation loss for No_Pretraining\n"
     ]
    },
    {
     "name": "stderr",
     "output_type": "stream",
     "text": [
      "100%|██████████| 6/6 [07:37<00:00, 76.18s/it]\n"
     ]
    },
    {
     "name": "stdout",
     "output_type": "stream",
     "text": [
      "Calculating validation loss for Shuffled_Directional\n"
     ]
    },
    {
     "name": "stderr",
     "output_type": "stream",
     "text": [
      "100%|██████████| 5/5 [07:54<00:00, 94.91s/it] \n"
     ]
    }
   ],
   "source": [
    "test_loss = get_epoch_losses(RNN_parent_dir, RNN_model_dirs, 0, test_loader)\n",
    "pickle.dump(test_loss, open(f'revisions_data/epoch_0_test_loss.pkl', 'wb'))"
   ],
   "metadata": {
    "collapsed": false,
    "ExecuteTime": {
     "end_time": "2024-11-28T20:34:53.857329Z",
     "start_time": "2024-11-28T20:03:55.343990Z"
    }
   },
   "id": "4e340d23fd254691"
  },
  {
   "cell_type": "code",
   "execution_count": 58,
   "outputs": [
    {
     "name": "stdout",
     "output_type": "stream",
     "text": [
      "Pretrained_Directional vs Pretrained_Godfrey: 3.0056342220471276e-57\n",
      "Pretrained_Directional vs No_Pretraining: 0.0\n",
      "Pretrained_Directional vs Shuffled_Directional: 1.0951468577343789e-298\n",
      "Pretrained_Godfrey vs No_Pretraining: 0.0\n",
      "Pretrained_Godfrey vs Shuffled_Directional: 1.6691489395749691e-286\n",
      "No_Pretraining vs Shuffled_Directional: 2.126118900306972e-161\n"
     ]
    },
    {
     "data": {
      "text/plain": "<Figure size 300x350 with 1 Axes>",
      "image/png": "[encoded data removed]"
     },
     "metadata": {},
     "output_type": "display_data"
    }
   ],
   "source": [
    "test_loss = pickle.load(open(f'revisions_data/epoch_0_test_loss.pkl', 'rb'))\n",
    "performance_boxplots(test_loss,\n",
    "                     RNN_model_dirs,\n",
    "                     RNN_model_names,\n",
    "                     palette,\n",
    "                     \"figures_revisions/Figure_2/boxplots\",\n",
    "                     epoch=0,\n",
    "                     set='Test',\n",
    "                     ylim=1550,\n",
    "                     y_offset_fixed=50,\n",
    "                     y_offset_scale=0.08)"
   ],
   "metadata": {
    "collapsed": false,
    "ExecuteTime": {
     "end_time": "2024-11-28T21:58:46.655182Z",
     "start_time": "2024-11-28T21:58:46.465325Z"
    }
   },
   "id": "2fc9e60d4ea299c6"
  },
  {
   "cell_type": "code",
   "execution_count": 54,
   "outputs": [
    {
     "name": "stdout",
     "output_type": "stream",
     "text": [
      "Calculating validation loss for Pretrained_Directional\n"
     ]
    },
    {
     "name": "stderr",
     "output_type": "stream",
     "text": [
      "100%|██████████| 6/6 [07:10<00:00, 71.73s/it]\n"
     ]
    },
    {
     "name": "stdout",
     "output_type": "stream",
     "text": [
      "Calculating validation loss for Pretrained_Godfrey\n"
     ]
    },
    {
     "name": "stderr",
     "output_type": "stream",
     "text": [
      "100%|██████████| 5/5 [07:12<00:00, 86.56s/it]\n"
     ]
    },
    {
     "name": "stdout",
     "output_type": "stream",
     "text": [
      "Calculating validation loss for No_Pretraining\n"
     ]
    },
    {
     "name": "stderr",
     "output_type": "stream",
     "text": [
      "100%|██████████| 6/6 [08:16<00:00, 82.79s/it]\n"
     ]
    },
    {
     "name": "stdout",
     "output_type": "stream",
     "text": [
      "Calculating validation loss for Shuffled_Directional\n"
     ]
    },
    {
     "name": "stderr",
     "output_type": "stream",
     "text": [
      "100%|██████████| 5/5 [13:26<00:00, 161.35s/it]\n"
     ]
    }
   ],
   "source": [
    "test_loss = get_epoch_losses(RNN_parent_dir, RNN_model_dirs, 1, test_loader)\n",
    "pickle.dump(test_loss, open(f'revisions_data/epoch_1_test_loss.pkl', 'wb'))"
   ],
   "metadata": {
    "collapsed": false,
    "ExecuteTime": {
     "end_time": "2024-11-28T21:11:00.718254Z",
     "start_time": "2024-11-28T20:34:54.055086Z"
    }
   },
   "id": "16e65e85efdceae0"
  },
  {
   "cell_type": "code",
   "execution_count": 71,
   "outputs": [
    {
     "name": "stdout",
     "output_type": "stream",
     "text": [
      "Pretrained_Directional vs Pretrained_Godfrey: 2.2194327375059008e-120\n",
      "Pretrained_Directional vs No_Pretraining: 0.0\n",
      "Pretrained_Directional vs Shuffled_Directional: 0.0\n",
      "Pretrained_Godfrey vs No_Pretraining: 0.0\n",
      "Pretrained_Godfrey vs Shuffled_Directional: 0.0\n",
      "No_Pretraining vs Shuffled_Directional: 5.1440128829180676e-107\n"
     ]
    },
    {
     "data": {
      "text/plain": "<Figure size 300x350 with 1 Axes>",
      "image/png": "[encoded data removed]"
     },
     "metadata": {},
     "output_type": "display_data"
    }
   ],
   "source": [
    "test_loss = pickle.load(open(f'revisions_data/epoch_1_test_loss.pkl', 'rb'))\n",
    "performance_boxplots(test_loss,\n",
    "                     RNN_model_dirs,\n",
    "                     RNN_model_names,\n",
    "                     palette,\n",
    "                     \"figures_revisions/Figure_2/boxplots\",\n",
    "                     epoch=1,\n",
    "                     set='Test',\n",
    "                     ylim=250,\n",
    "                     y_offset_fixed=40,\n",
    "                     y_offset_scale=0.15)"
   ],
   "metadata": {
    "collapsed": false,
    "ExecuteTime": {
     "end_time": "2024-11-28T22:00:31.503758Z",
     "start_time": "2024-11-28T22:00:31.342270Z"
    }
   },
   "id": "fd49721e0bcfc250"
  },
  {
   "cell_type": "code",
   "execution_count": 56,
   "outputs": [
    {
     "name": "stdout",
     "output_type": "stream",
     "text": [
      "Calculating validation loss for Pretrained_Directional\n"
     ]
    },
    {
     "name": "stderr",
     "output_type": "stream",
     "text": [
      "100%|██████████| 6/6 [20:57<00:00, 209.55s/it]\n"
     ]
    },
    {
     "name": "stdout",
     "output_type": "stream",
     "text": [
      "Calculating validation loss for Pretrained_Godfrey\n"
     ]
    },
    {
     "name": "stderr",
     "output_type": "stream",
     "text": [
      "100%|██████████| 5/5 [07:43<00:00, 92.73s/it]\n"
     ]
    },
    {
     "name": "stdout",
     "output_type": "stream",
     "text": [
      "Calculating validation loss for No_Pretraining\n"
     ]
    },
    {
     "name": "stderr",
     "output_type": "stream",
     "text": [
      "100%|██████████| 6/6 [07:47<00:00, 77.87s/it]\n"
     ]
    },
    {
     "name": "stdout",
     "output_type": "stream",
     "text": [
      "Calculating validation loss for Shuffled_Directional\n"
     ]
    },
    {
     "name": "stderr",
     "output_type": "stream",
     "text": [
      "100%|██████████| 5/5 [08:02<00:00, 96.48s/it]\n"
     ]
    }
   ],
   "source": [
    "test_loss = get_epoch_losses(RNN_parent_dir, RNN_model_dirs, \"best\", test_loader)\n",
    "pickle.dump(test_loss, open(f'revisions_data/epoch_best_test_loss.pkl', 'wb'))"
   ],
   "metadata": {
    "collapsed": false,
    "ExecuteTime": {
     "end_time": "2024-11-28T21:55:31.432452Z",
     "start_time": "2024-11-28T21:11:00.902870Z"
    }
   },
   "id": "a2a916dcaca1af3f"
  },
  {
   "cell_type": "code",
   "execution_count": 98,
   "outputs": [
    {
     "name": "stdout",
     "output_type": "stream",
     "text": [
      "Pretrained_Directional vs Pretrained_Godfrey: 2.8108273275306228e-21\n",
      "Pretrained_Directional vs No_Pretraining: 0.016867942855064783\n",
      "Pretrained_Directional vs Shuffled_Directional: 2.212411680460279e-189\n",
      "Pretrained_Godfrey vs No_Pretraining: 4.2421029995913314e-51\n",
      "Pretrained_Godfrey vs Shuffled_Directional: 1.8448960655923741e-152\n",
      "No_Pretraining vs Shuffled_Directional: 1.2e-322\n"
     ]
    },
    {
     "data": {
      "text/plain": "<Figure size 300x350 with 1 Axes>",
      "image/png": "[encoded data removed]"
     },
     "metadata": {},
     "output_type": "display_data"
    }
   ],
   "source": [
    "test_loss = pickle.load(open(f'revisions_data/epoch_best_test_loss.pkl', 'rb'))\n",
    "performance_boxplots(test_loss,\n",
    "                     RNN_model_dirs,\n",
    "                     RNN_model_names,\n",
    "                     palette,\n",
    "                     \"figures_revisions/Figure_2/boxplots\",\n",
    "                     epoch=\"best\",\n",
    "                     set='Test',\n",
    "                     ylim=36,\n",
    "                     y_offset_fixed=12,\n",
    "                     y_offset_scale=0.17)"
   ],
   "metadata": {
    "collapsed": false,
    "ExecuteTime": {
     "end_time": "2024-11-28T22:08:57.983080Z",
     "start_time": "2024-11-28T22:08:57.807137Z"
    }
   },
   "id": "8758bdfb7bc49b4"
  },
  {
   "cell_type": "code",
   "execution_count": null,
   "outputs": [],
   "source": [],
   "metadata": {
    "collapsed": false
   },
   "id": "edd0b062747b8ba0"
  }
 ],
 "metadata": {
  "kernelspec": {
   "display_name": "Python 3",
   "language": "python",
   "name": "python3"
  },
  "language_info": {
   "codemirror_mode": {
    "name": "ipython",
    "version": 2
   },
   "file_extension": ".py",
   "mimetype": "text/x-python",
   "name": "python",
   "nbconvert_exporter": "python",
   "pygments_lexer": "ipython2",
   "version": "2.7.6"
  }
 },
 "nbformat": 4,
 "nbformat_minor": 5
}
