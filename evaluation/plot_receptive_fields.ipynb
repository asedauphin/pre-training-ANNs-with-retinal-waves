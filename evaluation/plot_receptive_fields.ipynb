{
 "cells": [
  {
   "cell_type": "code",
   "execution_count": 59,
   "metadata": {
    "collapsed": true,
    "ExecuteTime": {
     "end_time": "2024-03-24T19:14:41.341982Z",
     "start_time": "2024-03-24T19:14:41.336331Z"
    }
   },
   "outputs": [],
   "source": [
    "import matplotlib.pyplot as plt\n",
    "import numpy as np\n",
    "import seaborn as sns\n",
    "import os"
   ]
  },
  {
   "cell_type": "code",
   "execution_count": 60,
   "outputs": [],
   "source": [
    "plt.rcParams['figure.dpi'] = 200\n",
    "\n",
    "import config # contains the path to the data\n",
    "\n",
    "unit = (32, 48)\n",
    "crop_size = 13\n",
    "CROP = True"
   ],
   "metadata": {
    "collapsed": false,
    "ExecuteTime": {
     "end_time": "2024-03-24T19:14:41.347939Z",
     "start_time": "2024-03-24T19:14:41.342102Z"
    }
   }
  },
  {
   "cell_type": "code",
   "execution_count": 61,
   "outputs": [],
   "source": [
    "parent_dir = f'{config.project_dir}/01_Output/Receptive_Field_Investigation_Per_Model/'\n",
    "figure_dir = 'figures/Figure_5'\n",
    "\n",
    "averaged_output_per_model = {}\n",
    "\n",
    "#list subdirectories\n",
    "for subdir in os.listdir(parent_dir):\n",
    "    if 'DS_Store' in subdir:\n",
    "        continue\n",
    "    averaged_output_per_model[subdir] = np.load(os.path.join(parent_dir, subdir, 'five_model_average.npy'))"
   ],
   "metadata": {
    "collapsed": false,
    "ExecuteTime": {
     "end_time": "2024-03-24T19:14:41.356026Z",
     "start_time": "2024-03-24T19:14:41.347425Z"
    }
   }
  },
  {
   "cell_type": "code",
   "execution_count": 62,
   "outputs": [],
   "source": [
    "global_max_value, global_min_value = 0, 0\n",
    "\n",
    "\n",
    "for model_name in averaged_output_per_model.keys():\n",
    "    averaged_output = averaged_output_per_model[model_name]\n",
    "    if averaged_output.max() > global_max_value:\n",
    "        global_max_value = averaged_output.max()\n",
    "    if averaged_output.min() < global_min_value:\n",
    "        global_min_value = averaged_output.min()"
   ],
   "metadata": {
    "collapsed": false,
    "ExecuteTime": {
     "end_time": "2024-03-24T19:14:41.361183Z",
     "start_time": "2024-03-24T19:14:41.357622Z"
    }
   }
  },
  {
   "cell_type": "code",
   "execution_count": 63,
   "outputs": [],
   "source": [
    "rdgn = sns.diverging_palette(h_neg=220, h_pos=10, s=99, l=55, sep=3, as_cmap=True)\n",
    "for model_name, averaged_output in averaged_output_per_model.items():\n",
    "    plt.rcParams.update({'font.size': 14})\n",
    "    # create directory with model name\n",
    "    os.makedirs(f'{figure_dir}/{model_name}', exist_ok=True)\n",
    "    for nr, frame in enumerate(averaged_output):\n",
    "        if CROP:\n",
    "            frame = frame[unit[0]-crop_size:unit[0]+crop_size+1, unit[1]-crop_size:unit[1]+crop_size+1]\n",
    "        \n",
    "        plt.figure(figsize=(4, 4))\n",
    "        heat = sns.heatmap(frame, vmin=global_min_value, vmax=global_max_value, cbar_kws = dict(use_gridspec=False,location=\"top\"))\n",
    "        \n",
    "        if CROP:\n",
    "            plt.scatter(x=crop_size+0.5, y=crop_size+0.5, marker=\"x\", color=\"black\", s=100)\n",
    "        else:\n",
    "            plt.scatter(x=unit[1], y=unit[0], marker=\"x\", color=\"black\", s=100)\n",
    "        heat.set(xticklabels=[], yticklabels=[])\n",
    "        heat.tick_params(bottom=False, left=False)\n",
    "        heat.axhline(y=0, color='k', linewidth=1)\n",
    "        heat.axhline(y=frame.shape[1], color='k', linewidth=2)\n",
    "        heat.axvline(x=0, color='k', linewidth=2)\n",
    "        heat.axvline(x=frame.shape[0], color='k', linewidth=1)\n",
    "\n",
    "        if nr==0: #to get the colorbar\n",
    "            plt.savefig(f'{figure_dir}/{model_name}/colorbar_frame{nr}.png', bbox_inches='tight')\n",
    "\n",
    "        heat.collections[0].colorbar.remove()\n",
    "        plt.tight_layout()\n",
    "        plt.savefig(f'{figure_dir}/{model_name}/frame{nr}.png', bbox_inches='tight')\n",
    "        plt.close()"
   ],
   "metadata": {
    "collapsed": false,
    "ExecuteTime": {
     "end_time": "2024-03-24T19:14:48.829528Z",
     "start_time": "2024-03-24T19:14:41.369799Z"
    }
   }
  },
  {
   "cell_type": "code",
   "execution_count": 63,
   "outputs": [],
   "source": [],
   "metadata": {
    "collapsed": false,
    "ExecuteTime": {
     "end_time": "2024-03-24T19:14:48.834112Z",
     "start_time": "2024-03-24T19:14:48.829850Z"
    }
   }
  }
 ],
 "metadata": {
  "kernelspec": {
   "display_name": "Python 3",
   "language": "python",
   "name": "python3"
  },
  "language_info": {
   "codemirror_mode": {
    "name": "ipython",
    "version": 2
   },
   "file_extension": ".py",
   "mimetype": "text/x-python",
   "name": "python",
   "nbconvert_exporter": "python",
   "pygments_lexer": "ipython2",
   "version": "2.7.6"
  }
 },
 "nbformat": 4,
 "nbformat_minor": 0
}
